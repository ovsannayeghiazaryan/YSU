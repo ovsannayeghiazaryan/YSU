{
 "cells": [
  {
   "cell_type": "code",
   "execution_count": 1,
   "metadata": {},
   "outputs": [
    {
     "name": "stderr",
     "output_type": "stream",
     "text": [
      "Using TensorFlow backend.\n"
     ]
    }
   ],
   "source": [
    "import numpy as np\n",
    "import pandas as pd\n",
    "import matplotlib.pyplot as plt\n",
    "from keras import Sequential\n",
    "from keras.layers import LSTM\n",
    "from keras.layers import Dropout\n",
    "from keras.layers import Dense\n",
    "from sklearn.model_selection import train_test_split\n",
    "import sklearn\n",
    "from keras import optimizers\n",
    "adam = optimizers.adam(lr=0.001)\n",
    "from sklearn.preprocessing import MinMaxScaler\n",
    "import os\n",
    "import glob\n",
    "sc = MinMaxScaler(feature_range=(0,1))"
   ]
  },
  {
   "cell_type": "code",
   "execution_count": 10,
   "metadata": {},
   "outputs": [],
   "source": [
    "path = r'c:\\Users\\user\\Desktop\\diploma\\python_scripts\\\\'\n",
    "extension = 'csv'\n",
    "os.chdir(path)\n",
    "files = glob.glob('*.{}'.format(extension))"
   ]
  },
  {
   "cell_type": "code",
   "execution_count": 11,
   "metadata": {},
   "outputs": [],
   "source": [
    "def predict_price(filename, train_test_split, epochs, validation_split):\n",
    "    data = pd.read_csv(filename, index_col = \"Date\")\n",
    "    data_train = data.iloc[:round(int(len(data)*train_test_split)), :]\n",
    "    data_test = data.iloc[round(int(len(data)*train_test_split)):,:]\n",
    "    X_train = data_train.iloc[:, 3:4]\n",
    "    X_train_scaled = sc.fit_transform(X_train)\n",
    "    x_train = []\n",
    "    y_train = []\n",
    "    for i in range(60, X_train.shape[0]):\n",
    "        x_train.append(X_train_scaled[i-60:i, 0])\n",
    "        y_train.append(X_train_scaled[i, 0])\n",
    "    x_train_array = np.array(x_train)\n",
    "    y_train_array = np.array(y_train)\n",
    "    x_train_input = np.reshape(x_train_array, (x_train_array.shape[0], x_train_array.shape[1], 1))\n",
    "    model = Sequential()\n",
    "    model.add(LSTM(units=150,return_sequences=True,input_shape=(x_train_input.shape[1], 1)))\n",
    "    model.add(Dropout(0.2))\n",
    "    model.add(LSTM(units=100,return_sequences=True))\n",
    "    model.add(Dropout(0.2))\n",
    "    model.add(LSTM(units=100,return_sequences=True))\n",
    "    model.add(Dropout(0.2))\n",
    "    model.add(LSTM(units=50))\n",
    "    model.add(Dropout(0.2))\n",
    "    model.add(Dense(units=1))\n",
    "    model.compile(optimizer='adam',loss='mean_squared_error')\n",
    "    model.fit(x_train_input,y_train_array, epochs=epochs,batch_size=64, validation_split = validation_split, verbose = 1)\n",
    "    real_close_price = data_test.iloc[:, 3:4]\n",
    "    all_data = pd.concat((data_train['Close'], data_test['Close']), axis = 0)\n",
    "    inputs = all_data[len(all_data) - len(data_test) - 60:].values\n",
    "    inputs = inputs.reshape(-1,1)\n",
    "    inputs = sc.transform(inputs)\n",
    "    X_test = []\n",
    "    for i in range(60, inputs.shape[0]):\n",
    "        X_test.append(inputs[i-60:i, 0])\n",
    "    X_test_array = np.array(X_test)\n",
    "    X_test_input = np.reshape(X_test_array, (X_test_array.shape[0], X_test_array.shape[1], 1))\n",
    "    predicted_close_price_tf = model.predict(X_test_input)\n",
    "    predicted_close_price = sc.inverse_transform(predicted_close_price_tf)\n",
    "    return predicted_close_price\n"
   ]
  },
  {
   "cell_type": "code",
   "execution_count": 12,
   "metadata": {},
   "outputs": [],
   "source": [
    "def calc_da(filename, train_test_split, predicted_data):\n",
    "    data = pd.read_csv(filename, index_col = \"Date\")\n",
    "    data_test = data.iloc[round(int(len(data)*train_test_split)):,:]\n",
    "    real_close_price = np.array(data_test.iloc[:, 3:4])\n",
    "    count = 0\n",
    "    for i in range(len(real_close_price)-1):\n",
    "        if (real_close_price[i+1]-real_close_price[i])*(predicted_data[i+1]-predicted_data[i])>0:\n",
    "            count += 1\n",
    "    DA = count * 100 / (len(real_close_price)-1)\n",
    "    return DA "
   ]
  },
  {
   "cell_type": "code",
   "execution_count": 13,
   "metadata": {},
   "outputs": [],
   "source": [
    "def strategy(filename, train_test_split, predicted_data):\n",
    "    data = pd.read_csv(filename, index_col = \"Date\")\n",
    "    data_test = data.iloc[round(int(len(data)*train_test_split)):,:]\n",
    "    real_open_price = np.array(data_test.iloc[:, 0:1])\n",
    "    real_close_price = np.array(data_test.iloc[:, 3:4])\n",
    "    pred_reward = 0\n",
    "    pred_reward_lst = []\n",
    "    for i in range(len(real_open_price)-1):\n",
    "        if predicted_data[i] - real_open_price[i] > 0:\n",
    "            pred_reward += (real_close_price[i] - real_open_price[i])\n",
    "            pred_reward_lst.append(real_close_price[i] - real_open_price[i])\n",
    "        else:\n",
    "            pred_reward += (real_open_price[i] - real_close_price[i])\n",
    "            pred_reward_lst.append(real_close_price[i] - real_open_price[i])\n",
    "    return pred_reward"
   ]
  },
  {
   "cell_type": "code",
   "execution_count": null,
   "metadata": {},
   "outputs": [],
   "source": []
  },
  {
   "cell_type": "code",
   "execution_count": 9,
   "metadata": {},
   "outputs": [
    {
     "name": "stdout",
     "output_type": "stream",
     "text": [
      "Train on 4104 samples, validate on 457 samples\n",
      "Epoch 1/2\n",
      "4104/4104 [==============================] - 51s 12ms/step - loss: 0.0039 - val_loss: 0.0023\n",
      "Epoch 2/2\n",
      "4104/4104 [==============================] - 43s 10ms/step - loss: 5.4490e-04 - val_loss: 0.0019\n"
     ]
    },
    {
     "data": {
      "text/plain": [
       "52.72727272727273"
      ]
     },
     "execution_count": 9,
     "metadata": {},
     "output_type": "execute_result"
    }
   ],
   "source": [
    "calc_da(files[1], 0.8, predict_price(files[1], 0.8, 2))"
   ]
  },
  {
   "cell_type": "code",
   "execution_count": 16,
   "metadata": {},
   "outputs": [
    {
     "name": "stdout",
     "output_type": "stream",
     "text": [
      "Train on 8645 samples, validate on 961 samples\n",
      "Epoch 1/15\n",
      "8645/8645 [==============================] - 162s 19ms/step - loss: 0.0040 - val_loss: 0.0044\n",
      "Epoch 2/15\n",
      "8645/8645 [==============================] - 149s 17ms/step - loss: 0.0014 - val_loss: 0.0032\n",
      "Epoch 3/15\n",
      "8645/8645 [==============================] - 152s 18ms/step - loss: 0.0012 - val_loss: 0.0064\n",
      "Epoch 4/15\n",
      "8645/8645 [==============================] - 158s 18ms/step - loss: 0.0014 - val_loss: 0.0018\n",
      "Epoch 5/15\n",
      "8645/8645 [==============================] - 159s 18ms/step - loss: 9.9455e-04 - val_loss: 0.0021\n",
      "Epoch 6/15\n",
      "8645/8645 [==============================] - 164s 19ms/step - loss: 9.1810e-04 - val_loss: 0.0015\n",
      "Epoch 7/15\n",
      "8645/8645 [==============================] - 170s 20ms/step - loss: 9.2014e-04 - val_loss: 0.0020\n",
      "Epoch 8/15\n",
      "8645/8645 [==============================] - 171s 20ms/step - loss: 8.3507e-04 - val_loss: 0.0038\n",
      "Epoch 9/15\n",
      "8645/8645 [==============================] - 178s 21ms/step - loss: 8.5658e-04 - val_loss: 0.0020\n",
      "Epoch 10/15\n",
      "8645/8645 [==============================] - 181s 21ms/step - loss: 8.0479e-04 - val_loss: 0.0031\n",
      "Epoch 11/15\n",
      "8645/8645 [==============================] - 182s 21ms/step - loss: 8.2316e-04 - val_loss: 0.0012\n",
      "Epoch 12/15\n",
      "8645/8645 [==============================] - 187s 22ms/step - loss: 7.9234e-04 - val_loss: 0.0012\n",
      "Epoch 13/15\n",
      "8645/8645 [==============================] - 192s 22ms/step - loss: 7.9149e-04 - val_loss: 0.0012\n",
      "Epoch 14/15\n",
      "8645/8645 [==============================] - 194s 22ms/step - loss: 6.7887e-04 - val_loss: 0.0011\n",
      "Epoch 15/15\n",
      "8645/8645 [==============================] - 201s 23ms/step - loss: 7.1491e-04 - val_loss: 0.0016\n"
     ]
    },
    {
     "data": {
      "text/plain": [
       "49.25496688741722"
      ]
     },
     "execution_count": 16,
     "metadata": {},
     "output_type": "execute_result"
    }
   ],
   "source": [
    "calc_da(files[2], 0.8, predict_price(files[2], 0.8, 15))"
   ]
  },
  {
   "cell_type": "code",
   "execution_count": 7,
   "metadata": {},
   "outputs": [
    {
     "name": "stdout",
     "output_type": "stream",
     "text": [
      "Train on 5423 samples, validate on 603 samples\n",
      "Epoch 1/5\n",
      "5423/5423 [==============================] - 62s 11ms/step - loss: 0.0039 - val_loss: 3.3391e-04\n",
      "Epoch 2/5\n",
      "5423/5423 [==============================] - 55s 10ms/step - loss: 0.0011 - val_loss: 1.3547e-04\n",
      "Epoch 3/5\n",
      "5423/5423 [==============================] - 57s 10ms/step - loss: 0.0010 - val_loss: 1.3554e-04\n",
      "Epoch 4/5\n",
      "5423/5423 [==============================] - 58s 11ms/step - loss: 9.2260e-04 - val_loss: 1.5507e-04\n",
      "Epoch 5/5\n",
      "5423/5423 [==============================] - 59s 11ms/step - loss: 8.7704e-04 - val_loss: 1.1963e-04\n"
     ]
    },
    {
     "data": {
      "text/plain": [
       "48.19197896120973"
      ]
     },
     "execution_count": 7,
     "metadata": {},
     "output_type": "execute_result"
    }
   ],
   "source": [
    "calc_da(files[5], 0.8, predict_price(files[5], 0.8, 5))"
   ]
  },
  {
   "cell_type": "code",
   "execution_count": 9,
   "metadata": {},
   "outputs": [
    {
     "name": "stdout",
     "output_type": "stream",
     "text": [
      "Train on 5423 samples, validate on 603 samples\n",
      "Epoch 1/1\n",
      "5423/5423 [==============================] - 75s 14ms/step - loss: 0.0038 - val_loss: 6.7268e-04\n"
     ]
    },
    {
     "data": {
      "text/plain": [
       "49.2439184746877"
      ]
     },
     "execution_count": 9,
     "metadata": {},
     "output_type": "execute_result"
    }
   ],
   "source": [
    "calc_da(files[5], 0.8, predict_price(files[5], 0.8, 1))"
   ]
  },
  {
   "cell_type": "code",
   "execution_count": 16,
   "metadata": {},
   "outputs": [
    {
     "name": "stdout",
     "output_type": "stream",
     "text": [
      "Train on 4212 samples, validate on 1053 samples\n",
      "Epoch 1/2\n",
      "4212/4212 [==============================] - 42s 10ms/step - loss: 0.0046 - val_loss: 3.4747e-04\n",
      "Epoch 2/2\n",
      "4212/4212 [==============================] - 38s 9ms/step - loss: 0.0013 - val_loss: 2.8585e-04\n"
     ]
    },
    {
     "data": {
      "text/plain": [
       "49.83563445101907"
      ]
     },
     "execution_count": 16,
     "metadata": {},
     "output_type": "execute_result"
    }
   ],
   "source": [
    "calc_da(files[5], 0.8, predict_price(files[5], 0.7, 2, 0.2))"
   ]
  },
  {
   "cell_type": "code",
   "execution_count": null,
   "metadata": {},
   "outputs": [
    {
     "name": "stdout",
     "output_type": "stream",
     "text": [
      "Train on 4104 samples, validate on 457 samples\n",
      "Epoch 1/1\n",
      "4104/4104 [==============================] - 54s 13ms/step - loss: 0.0025 - val_loss: 0.0022\n",
      "Train on 8645 samples, validate on 961 samples\n",
      "Epoch 1/1\n",
      "8645/8645 [==============================] - 110s 13ms/step - loss: 0.0042 - val_loss: 0.0177\n",
      "Train on 10516 samples, validate on 1169 samples\n",
      "Epoch 1/1\n",
      "10516/10516 [==============================] - 136s 13ms/step - loss: 0.0018 - val_loss: 0.0045\n",
      "Train on 10516 samples, validate on 1169 samples\n",
      "Epoch 1/1\n",
      "10516/10516 [==============================] - 142s 14ms/step - loss: 5.4469e-04 - val_loss: 0.0016\n",
      "Train on 5423 samples, validate on 603 samples\n",
      "Epoch 1/1\n",
      "5423/5423 [==============================] - 82s 15ms/step - loss: 0.0040 - val_loss: 1.4789e-04\n",
      "Train on 10516 samples, validate on 1169 samples\n",
      "Epoch 1/1\n",
      "10516/10516 [==============================] - 157s 15ms/step - loss: 9.8341e-04 - val_loss: 0.0014\n",
      "Train on 10516 samples, validate on 1169 samples\n",
      "Epoch 1/1\n",
      "10516/10516 [==============================] - 170s 16ms/step - loss: 0.0031 - val_loss: 0.0026\n",
      "Train on 147 samples, validate on 17 samples\n",
      "Epoch 1/1\n",
      "147/147 [==============================] - 18s 122ms/step - loss: 0.1922 - val_loss: 0.0775\n",
      "Train on 3748 samples, validate on 417 samples\n",
      "Epoch 1/1\n",
      "3748/3748 [==============================] - 74s 20ms/step - loss: 0.0131 - val_loss: 0.0014\n",
      "Train on 6954 samples, validate on 773 samples\n",
      "Epoch 1/1\n",
      "6954/6954 [==============================] - 127s 18ms/step - loss: 0.0063 - val_loss: 0.0013\n",
      "Train on 10516 samples, validate on 1169 samples\n",
      "Epoch 1/1\n",
      "10516/10516 [==============================] - 191s 18ms/step - loss: 0.0030 - val_loss: 0.0058\n",
      "Train on 7229 samples, validate on 804 samples\n",
      "Epoch 1/1\n",
      "7229/7229 [==============================] - 144s 20ms/step - loss: 0.0034 - val_loss: 1.8476e-04\n",
      "Train on 10516 samples, validate on 1169 samples\n",
      "Epoch 1/1\n",
      " 5440/10516 [==============>...............] - ETA: 1:47 - loss: 0.0039"
     ]
    }
   ],
   "source": [
    "pred_price_list = []\n",
    "for i in range(1, len(files)):\n",
    "    pred_price_list.append(predict_price(files[i], 0.8, 1))\n",
    "    #all_reward += strategy(files[i], 0.8, predict_price(files[i], 0.8))\n",
    "  "
   ]
  },
  {
   "cell_type": "code",
   "execution_count": 7,
   "metadata": {},
   "outputs": [
    {
     "name": "stdout",
     "output_type": "stream",
     "text": [
      "Train on 3648 samples, validate on 913 samples\n",
      "Epoch 1/1\n",
      "3648/3648 [==============================] - 21s 6ms/step - loss: 0.0016 - val_loss: 0.0016\n",
      "Train on 7684 samples, validate on 1922 samples\n",
      "Epoch 1/1\n",
      "7684/7684 [==============================] - 45s 6ms/step - loss: 0.0021 - val_loss: 0.0018\n",
      "Train on 9348 samples, validate on 2337 samples\n",
      "Epoch 1/1\n",
      "9348/9348 [==============================] - 60s 6ms/step - loss: 0.0013 - val_loss: 0.0014\n",
      "Train on 9348 samples, validate on 2337 samples\n",
      "Epoch 1/1\n",
      "9348/9348 [==============================] - 62s 7ms/step - loss: 2.9568e-04 - val_loss: 0.0014\n",
      "Train on 4820 samples, validate on 1206 samples\n",
      "Epoch 1/1\n",
      "4820/4820 [==============================] - 33s 7ms/step - loss: 0.0049 - val_loss: 4.1569e-04\n",
      "Train on 9348 samples, validate on 2337 samples\n",
      "Epoch 1/1\n",
      "9348/9348 [==============================] - 65s 7ms/step - loss: 5.6996e-04 - val_loss: 0.0035\n",
      "Train on 9348 samples, validate on 2337 samples\n",
      "Epoch 1/1\n",
      "9348/9348 [==============================] - 73s 8ms/step - loss: 0.0019 - val_loss: 0.0020\n",
      "Train on 131 samples, validate on 33 samples\n",
      "Epoch 1/1\n",
      "131/131 [==============================] - 5s 38ms/step - loss: 0.1659 - val_loss: 0.1419\n",
      "Train on 3332 samples, validate on 833 samples\n",
      "Epoch 1/1\n",
      "3332/3332 [==============================] - 24s 7ms/step - loss: 0.0152 - val_loss: 0.0014\n"
     ]
    }
   ],
   "source": [
    "reward_list = []\n",
    "all_reward = 0\n",
    "for i in range(1, 10):\n",
    "    reward_list.append(strategy(files[i], 0.8, predict_price(files[i], 0.8, 1, 0.2)))\n",
    "    #all_reward += strategy(files[i], 0.8, predict_price(files[i], 0.8))\n",
    "  \n",
    "        "
   ]
  },
  {
   "cell_type": "code",
   "execution_count": 8,
   "metadata": {},
   "outputs": [
    {
     "name": "stdout",
     "output_type": "stream",
     "text": [
      "[array([238.080483]), array([-7.240178]), array([-18.729774]), array([59.989854]), array([13.649945]), array([-5.59994]), array([41.480065]), array([-8.859997]), array([47.220243])]\n"
     ]
    }
   ],
   "source": [
    "print(reward_list)"
   ]
  },
  {
   "cell_type": "code",
   "execution_count": 9,
   "metadata": {},
   "outputs": [
    {
     "name": "stdout",
     "output_type": "stream",
     "text": [
      "[359.990701]\n"
     ]
    }
   ],
   "source": [
    "reward = 0\n",
    "for i in range(len(reward_list)):\n",
    "    reward += reward_list[i]\n",
    "print(reward)"
   ]
  },
  {
   "cell_type": "code",
   "execution_count": 6,
   "metadata": {},
   "outputs": [
    {
     "name": "stdout",
     "output_type": "stream",
     "text": [
      "Train on 6181 samples, validate on 1546 samples\n",
      "Epoch 1/1\n",
      "6181/6181 [==============================] - 35s 6ms/step - loss: 0.0064 - val_loss: 6.4162e-04\n",
      "Train on 9348 samples, validate on 2337 samples\n",
      "Epoch 1/1\n",
      "9348/9348 [==============================] - 55s 6ms/step - loss: 0.0011 - val_loss: 0.0030\n",
      "Train on 6426 samples, validate on 1607 samples\n",
      "Epoch 1/1\n",
      "6426/6426 [==============================] - 39s 6ms/step - loss: 0.0028 - val_loss: 0.0010\n",
      "Train on 9348 samples, validate on 2337 samples\n",
      "Epoch 1/1\n",
      "9348/9348 [==============================] - 57s 6ms/step - loss: 6.8269e-04 - val_loss: 0.0026\n",
      "Train on 6426 samples, validate on 1607 samples\n",
      "Epoch 1/1\n",
      "6426/6426 [==============================] - 41s 6ms/step - loss: 0.0073 - val_loss: 0.0035\n",
      "Train on 9348 samples, validate on 2337 samples\n",
      "Epoch 1/1\n",
      "9348/9348 [==============================] - 59s 6ms/step - loss: 0.0021 - val_loss: 0.0103\n",
      "Train on 8621 samples, validate on 2156 samples\n",
      "Epoch 1/1\n",
      "8621/8621 [==============================] - 56s 7ms/step - loss: 0.0017 - val_loss: 9.9402e-04\n",
      "Train on 8076 samples, validate on 2020 samples\n",
      "Epoch 1/1\n",
      "8076/8076 [==============================] - 56s 7ms/step - loss: 0.0018 - val_loss: 0.0057\n",
      "Train on 8076 samples, validate on 2020 samples\n",
      "Epoch 1/1\n",
      "8076/8076 [==============================] - 57s 7ms/step - loss: 0.0031 - val_loss: 0.0069\n",
      "Train on 5457 samples, validate on 1365 samples\n",
      "Epoch 1/1\n",
      "5457/5457 [==============================] - 40s 7ms/step - loss: 0.0061 - val_loss: 7.9573e-04\n"
     ]
    }
   ],
   "source": [
    "reward_list = []\n",
    "all_reward = 0\n",
    "for i in range(10, 20):\n",
    "    reward_list.append(strategy(files[i], 0.8, predict_price(files[i], 0.8, 1, 0.2)))\n",
    "    #all_reward += strategy(files[i], 0.8, predict_price(files[i], 0.8))\n",
    "  "
   ]
  },
  {
   "cell_type": "code",
   "execution_count": 7,
   "metadata": {},
   "outputs": [
    {
     "name": "stdout",
     "output_type": "stream",
     "text": [
      "[array([-113.419701]), array([-60.28021]), array([52.950024]), array([-21.119909]), array([11.590065]), array([22.319972]), array([-74.83997]), array([-64.990146]), array([17.880082]), array([-26.0399])]\n"
     ]
    }
   ],
   "source": [
    "print(reward_list)"
   ]
  },
  {
   "cell_type": "code",
   "execution_count": 8,
   "metadata": {},
   "outputs": [
    {
     "name": "stdout",
     "output_type": "stream",
     "text": [
      "[-255.949693]\n"
     ]
    }
   ],
   "source": [
    "reward = 0\n",
    "for i in range(len(reward_list)):\n",
    "    reward += reward_list[i]\n",
    "print(reward)"
   ]
  },
  {
   "cell_type": "code",
   "execution_count": null,
   "metadata": {},
   "outputs": [],
   "source": []
  },
  {
   "cell_type": "code",
   "execution_count": null,
   "metadata": {},
   "outputs": [
    {
     "name": "stdout",
     "output_type": "stream",
     "text": [
      "Train on 3186 samples, validate on 797 samples\n",
      "Epoch 1/2\n",
      "3186/3186 [==============================] - 27s 8ms/step - loss: 0.0032 - val_loss: 0.0025\n",
      "Epoch 2/2\n",
      "3186/3186 [==============================] - 24s 8ms/step - loss: 7.9500e-04 - val_loss: 0.0021\n",
      "Train on 6718 samples, validate on 1680 samples\n",
      "Epoch 1/2\n",
      "6718/6718 [==============================] - 60s 9ms/step - loss: 0.0015 - val_loss: 0.0062\n",
      "Epoch 2/2\n",
      "6718/6718 [==============================] - 55s 8ms/step - loss: 4.0766e-04 - val_loss: 0.0025\n",
      "Train on 8173 samples, validate on 2044 samples\n",
      "Epoch 1/2\n",
      "8173/8173 [==============================] - 71s 9ms/step - loss: 8.1284e-04 - val_loss: 0.0066\n",
      "Epoch 2/2\n",
      "8173/8173 [==============================] - 69s 8ms/step - loss: 2.5301e-04 - val_loss: 0.0063\n",
      "Train on 8173 samples, validate on 2044 samples\n",
      "Epoch 1/2\n",
      "8173/8173 [==============================] - 72s 9ms/step - loss: 9.7009e-04 - val_loss: 0.0038\n",
      "Epoch 2/2\n",
      "8173/8173 [==============================] - 71s 9ms/step - loss: 2.6427e-04 - val_loss: 0.0023\n",
      "Train on 4212 samples, validate on 1053 samples\n",
      "Epoch 1/2\n",
      "4212/4212 [==============================] - 41s 10ms/step - loss: 0.0055 - val_loss: 3.3269e-04\n",
      "Epoch 2/2\n",
      "4212/4212 [==============================] - 37s 9ms/step - loss: 0.0013 - val_loss: 0.0010\n",
      "Train on 8173 samples, validate on 2044 samples\n",
      "Epoch 1/2\n",
      "8173/8173 [==============================] - 72s 9ms/step - loss: 0.0011 - val_loss: 0.0059\n",
      "Epoch 2/2\n",
      "8173/8173 [==============================] - 69s 8ms/step - loss: 3.1251e-04 - val_loss: 0.0022\n"
     ]
    }
   ],
   "source": [
    "accuracies = []\n",
    "for i in range(1,11):\n",
    "    accuracies.append(calc_da(files[i], 0.8, predict_price(files[i], 0.7, 2, 0.2)))\n",
    "    "
   ]
  },
  {
   "cell_type": "code",
   "execution_count": 1,
   "metadata": {},
   "outputs": [
    {
     "ename": "NameError",
     "evalue": "name 'accuracies' is not defined",
     "output_type": "error",
     "traceback": [
      "\u001b[1;31m---------------------------------------------------------------------------\u001b[0m",
      "\u001b[1;31mNameError\u001b[0m                                 Traceback (most recent call last)",
      "\u001b[1;32m<ipython-input-1-41af59000cc8>\u001b[0m in \u001b[0;36m<module>\u001b[1;34m\u001b[0m\n\u001b[1;32m----> 1\u001b[1;33m \u001b[0mprint\u001b[0m\u001b[1;33m(\u001b[0m\u001b[0maccuracies\u001b[0m\u001b[1;33m)\u001b[0m\u001b[1;33m\u001b[0m\u001b[1;33m\u001b[0m\u001b[0m\n\u001b[0m",
      "\u001b[1;31mNameError\u001b[0m: name 'accuracies' is not defined"
     ]
    }
   ],
   "source": [
    "print(accuracies)"
   ]
  },
  {
   "cell_type": "code",
   "execution_count": null,
   "metadata": {},
   "outputs": [],
   "source": [
    "calc_da(\"AMZN.csv\", 0.8, funkcia('AMZN.csv', 0.8))"
   ]
  },
  {
   "cell_type": "code",
   "execution_count": null,
   "metadata": {},
   "outputs": [],
   "source": [
    "overnight = 0\n",
    "for i in range(len(real_open_price)-1):\n",
    "    if predicted_close_price[i+1] - predicted_close_price[i] > 0:\n",
    "        overnight += (real_close_price[i+1] - real_close_price[i])\n",
    "        #real_reward_lst.append(real_close_price[i] - real_open_price[i])\n",
    "    #else:\n",
    "     #   overnight += (real_close_price[i] - real_close_price[i+1])\n",
    "        #real_reward_lst.append(real_close_price[i] - real_open_price[i])"
   ]
  },
  {
   "cell_type": "code",
   "execution_count": null,
   "metadata": {},
   "outputs": [],
   "source": [
    "overnight"
   ]
  },
  {
   "cell_type": "code",
   "execution_count": null,
   "metadata": {},
   "outputs": [],
   "source": []
  }
 ],
 "metadata": {
  "kernelspec": {
   "display_name": "Python 3",
   "language": "python",
   "name": "python3"
  },
  "language_info": {
   "codemirror_mode": {
    "name": "ipython",
    "version": 3
   },
   "file_extension": ".py",
   "mimetype": "text/x-python",
   "name": "python",
   "nbconvert_exporter": "python",
   "pygments_lexer": "ipython3",
   "version": "3.7.4"
  }
 },
 "nbformat": 4,
 "nbformat_minor": 2
}
